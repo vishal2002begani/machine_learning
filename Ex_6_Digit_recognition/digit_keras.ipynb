{
  "cells": [
    {
      "cell_type": "markdown",
      "metadata": {
        "id": "view-in-github",
        "colab_type": "text"
      },
      "source": [
        "<a href=\"https://colab.research.google.com/github/vishal2002begani/machine_learning/blob/main/Ex_6_Digit_recognition/digit_keras.ipynb\" target=\"_parent\"><img src=\"https://colab.research.google.com/assets/colab-badge.svg\" alt=\"Open In Colab\"/></a>"
      ]
    },
    {
      "cell_type": "markdown",
      "metadata": {
        "id": "v2r59A1jlTX3"
      },
      "source": [
        "In this assignment, you'll implement a L-layer deep model on MNIST dataset using Keras. The MNIST dataset contains tens of thousands of scanned images of handwritten digits, together with their correct classifications. MNIST's name comes from the fact that it is a modified subset of two data sets collected by NIST, the United States' National Institute of Standards and Technology.<br>\n",
        "<br>\n",
        "<br>\n",
        "To use Keras, you'll need to install Keras and Tensorflow.\n",
        "<br>\n",
        "Please run the following commands if you don't have Keras and TensorFlow already installed.\n",
        "<br>\n",
        "1. ! pip install TensorFlow\n",
        "<br>\n",
        "2. ! pip install keras\n",
        "<br>\n",
        "3. ! pip install msgpack\n"
      ]
    },
    {
      "cell_type": "code",
      "execution_count": null,
      "metadata": {
        "id": "eau2hAsqlTX4"
      },
      "outputs": [],
      "source": [
        "import numpy as np\n",
        "import pickle\n",
        "import gzip\n",
        "import matplotlib.pyplot as plt\n",
        "import pandas as pd\n",
        "import h5py\n",
        "import sklearn\n",
        "import sklearn.datasets\n",
        "import scipy\n",
        "from PIL import Image\n",
        "from scipy import ndimage\n",
        "from keras.models import Sequential\n",
        "from keras.layers import Dense, Dropout, BatchNormalization, Activation\n",
        "from keras import regularizers\n",
        "\n",
        "np.random.seed(7)\n",
        "%matplotlib inline  #The %matplotlib inline magic command is used in Jupyter Notebooks to display Matplotlib plots directly within the notebook cells.\n",
        "# When you include this command at the beginning of your notebook, it allows Matplotlib plots to be rendered inline, meaning the output of plotting commands\n",
        "# will appear directly below the code cell that generated them."
      ]
    },
    {
      "cell_type": "markdown",
      "metadata": {
        "id": "JEAjcGgKlTX4"
      },
      "source": [
        "The MNIST dataset we use here is 'mnist.pkl.gz' which is divided into training, validation and test data. The following function <i> load_data() </i> unpacks the file and extracts the training, validation and test data."
      ]
    },
    {
      "cell_type": "code",
      "execution_count": null,
      "metadata": {
        "id": "VZSCZv-YlTX5"
      },
      "outputs": [],
      "source": [
        "def load_data():\n",
        "    f = gzip.open('mnist.pkl.gz', 'rb')\n",
        "    f.seek(0)                           #jab file ko read karte hai tab uska pointer zero par set kar diya jaise ki starting se read kare\n",
        "    training_data, validation_data, test_data = pickle.load(f, encoding='latin1') #encoding latin1 ka use isliye kiya jaise ki python ke different version hai unme panga na ho jaaye\n",
        "    f.close()\n",
        "    return (training_data, validation_data, test_data)"
      ]
    },
    {
      "cell_type": "markdown",
      "metadata": {
        "id": "KswXXldKlTX5"
      },
      "source": [
        "Let's see how the data looks:"
      ]
    },
    {
      "cell_type": "code",
      "execution_count": null,
      "metadata": {
        "id": "KB0NAljWlTX5"
      },
      "outputs": [],
      "source": [
        "training_data, validation_data, test_data = load_data()"
      ]
    },
    {
      "cell_type": "code",
      "execution_count": null,
      "metadata": {
        "id": "qZZDw6yZlTX5",
        "outputId": "6418014e-2eae-4b27-c2f3-01cd66c8d8f3"
      },
      "outputs": [
        {
          "data": {
            "text/plain": [
              "(array([[0., 0., 0., ..., 0., 0., 0.],\n",
              "        [0., 0., 0., ..., 0., 0., 0.],\n",
              "        [0., 0., 0., ..., 0., 0., 0.],\n",
              "        ...,\n",
              "        [0., 0., 0., ..., 0., 0., 0.],\n",
              "        [0., 0., 0., ..., 0., 0., 0.],\n",
              "        [0., 0., 0., ..., 0., 0., 0.]], dtype=float32),\n",
              " array([5, 0, 4, ..., 8, 4, 8]))"
            ]
          },
          "execution_count": 4,
          "metadata": {},
          "output_type": "execute_result"
        }
      ],
      "source": [
        "training_data"
      ]
    },
    {
      "cell_type": "code",
      "execution_count": null,
      "metadata": {
        "id": "oFJ5Ddd2lTX5",
        "outputId": "63c1ed96-7499-46e1-cf02-9a174663709a"
      },
      "outputs": [
        {
          "name": "stdout",
          "output_type": "stream",
          "text": [
            "The feature dataset is:[[0. 0. 0. ... 0. 0. 0.]\n",
            " [0. 0. 0. ... 0. 0. 0.]\n",
            " [0. 0. 0. ... 0. 0. 0.]\n",
            " ...\n",
            " [0. 0. 0. ... 0. 0. 0.]\n",
            " [0. 0. 0. ... 0. 0. 0.]\n",
            " [0. 0. 0. ... 0. 0. 0.]]\n",
            "The target dataset is:[5 0 4 ... 8 4 8]\n",
            "The number of examples in the training dataset is:50000\n",
            "The number of points in a single input is:784\n"
          ]
        }
      ],
      "source": [
        "print(\"The feature dataset is:\" + str(training_data[0]))\n",
        "print(\"The target dataset is:\" + str(training_data[1]))\n",
        "print(\"The number of examples in the training dataset is:\" + str(len(training_data[0])))\n",
        "print(\"The number of points in a single input is:\" + str(len(training_data[0][1])))"
      ]
    },
    {
      "cell_type": "markdown",
      "metadata": {
        "id": "5wRmNxt6lTX5"
      },
      "source": [
        "Now, as discussed earlier in the lectures, the target variable is converted to a one hot matrix. We use the function <i> one_hot </i> to convert the target dataset to one hot encoding."
      ]
    },
    {
      "cell_type": "code",
      "execution_count": null,
      "metadata": {
        "id": "3hGUVSAYlTX6"
      },
      "outputs": [],
      "source": [
        "def one_hot(j):\n",
        "    # input is the target dataset of shape (1, m) where m is the number of data points\n",
        "    # returns a 2 dimensional array of shape (10, m) where each target value is converted to a one hot encoding\n",
        "    # Look at the next block of code for a better understanding of one hot encoding\n",
        "    n = j.shape[0]\n",
        "    new_array = np.zeros((10, n))\n",
        "    index = 0\n",
        "    for res in j:\n",
        "        new_array[res][index] = 1.0\n",
        "        index = index + 1\n",
        "    return new_array"
      ]
    },
    {
      "cell_type": "code",
      "execution_count": null,
      "metadata": {
        "id": "0KVqBATmlTX6",
        "outputId": "99227ce3-fce7-472f-c512-d7460326be5e"
      },
      "outputs": [
        {
          "data": {
            "text/plain": [
              "array([[1., 0., 0., 0., 0., 0., 0., 0., 0., 0.],\n",
              "       [0., 1., 0., 0., 0., 0., 0., 0., 0., 0.],\n",
              "       [0., 0., 1., 0., 0., 0., 0., 0., 0., 0.],\n",
              "       [0., 0., 0., 1., 0., 0., 0., 0., 0., 0.],\n",
              "       [0., 0., 0., 0., 1., 0., 0., 0., 0., 0.],\n",
              "       [0., 0., 0., 0., 0., 1., 0., 0., 0., 0.],\n",
              "       [0., 0., 0., 0., 0., 0., 1., 0., 0., 0.],\n",
              "       [0., 0., 0., 0., 0., 0., 0., 1., 0., 0.],\n",
              "       [0., 0., 0., 0., 0., 0., 0., 0., 1., 0.],\n",
              "       [0., 0., 0., 0., 0., 0., 0., 0., 0., 1.]])"
            ]
          },
          "execution_count": 6,
          "metadata": {},
          "output_type": "execute_result"
        }
      ],
      "source": [
        "data = np.array([0, 1, 2, 3, 4, 5, 6, 7, 8, 9])\n",
        "one_hot(data)"
      ]
    },
    {
      "cell_type": "code",
      "execution_count": null,
      "metadata": {
        "id": "wKa91LAzlTX6"
      },
      "outputs": [],
      "source": [
        "def data_wrapper():\n",
        "    tr_d, va_d, te_d = load_data()\n",
        "\n",
        "    training_inputs = np.array(tr_d[0][:]).T\n",
        "    training_results = np.array(tr_d[1][:])\n",
        "    train_set_y = one_hot(training_results)\n",
        "\n",
        "    validation_inputs = np.array(va_d[0][:]).T\n",
        "    validation_results = np.array(va_d[1][:])\n",
        "    validation_set_y = one_hot(validation_results)\n",
        "\n",
        "    test_inputs = np.array(te_d[0][:]).T\n",
        "    test_results = np.array(te_d[1][:])\n",
        "    test_set_y = one_hot(test_results)\n",
        "\n",
        "    return (training_inputs, train_set_y, validation_inputs, validation_set_y)\n"
      ]
    },
    {
      "cell_type": "code",
      "execution_count": null,
      "metadata": {
        "id": "7pjTpFgUlTX6",
        "outputId": "94688ad9-9e21-48f8-9861-65dc16d2021a"
      },
      "outputs": [
        {
          "name": "stdout",
          "output_type": "stream",
          "text": [
            "[7 2 1 ... 4 5 6]\n"
          ]
        }
      ],
      "source": [
        "tr_d, va_d, te_d = load_data()\n",
        "print(te_d[1][:])\n",
        "\n",
        "train_set_x, train_set_y, test_set_x, test_set_y = data_wrapper()"
      ]
    },
    {
      "cell_type": "markdown",
      "metadata": {
        "id": "AOwl2P27lTX6"
      },
      "source": [
        "For implementing in Keras, the input training and input target dataset are supposed to have shape (m, n) where m is the number of training samples and n is the number of parts in a single input.\n",
        "<br> Hence, let create the desired dataset shapes by taking transpose."
      ]
    },
    {
      "cell_type": "code",
      "execution_count": null,
      "metadata": {
        "id": "gUhJRwIglTX6"
      },
      "outputs": [],
      "source": [
        "train_set_x = train_set_x.T\n",
        "train_set_y = train_set_y.T\n",
        "test_set_x = test_set_x.T\n",
        "test_set_y = test_set_y.T"
      ]
    },
    {
      "cell_type": "markdown",
      "metadata": {
        "id": "xBafkFD4lTX6"
      },
      "source": [
        "Now, let's see if the datasets are in the desired shape:"
      ]
    },
    {
      "cell_type": "code",
      "execution_count": null,
      "metadata": {
        "id": "jImnH53llTX7",
        "outputId": "71c1be50-dce3-4272-9a1f-34bc239275ec"
      },
      "outputs": [
        {
          "name": "stdout",
          "output_type": "stream",
          "text": [
            "train_set_x shape: (50000, 784)\n",
            "train_set_y shape: (50000, 10)\n",
            "test_set_x shape: (10000, 784)\n",
            "test_set_y shape: (10000, 10)\n"
          ]
        }
      ],
      "source": [
        "print (\"train_set_x shape: \" + str(train_set_x.shape))\n",
        "print (\"train_set_y shape: \" + str(train_set_y.shape))\n",
        "print (\"test_set_x shape: \" + str(test_set_x.shape))\n",
        "print (\"test_set_y shape: \" + str(test_set_y.shape))"
      ]
    },
    {
      "cell_type": "markdown",
      "metadata": {
        "id": "JpVmPTjclTX7"
      },
      "source": [
        "Now let us visualise the dataset. Feel free to change the index to see if the training data has been correctly tagged."
      ]
    },
    {
      "cell_type": "code",
      "execution_count": null,
      "metadata": {
        "id": "gfxGJNLGlTX7",
        "outputId": "6a7a5b5e-9cb6-4f97-ae52-ce4576394fee"
      },
      "outputs": [
        {
          "data": {
            "text/plain": [
              "<matplotlib.image.AxesImage at 0x7ff264426490>"
            ]
          },
          "execution_count": 11,
          "metadata": {},
          "output_type": "execute_result"
        },
        {
          "data": {
            "image/png": "[encoded data removed]",
            "text/plain": [
              "<Figure size 432x288 with 1 Axes>"
            ]
          },
          "metadata": {
            "needs_background": "light"
          },
          "output_type": "display_data"
        }
      ],
      "source": [
        "index  = 1005\n",
        "k = train_set_x[index,:]\n",
        "k = k.reshape((28, 28))\n",
        "plt.title('Label is {label}'.format(label= training_data[1][index]))\n",
        "plt.imshow(k, cmap='gray')"
      ]
    },
    {
      "cell_type": "markdown",
      "metadata": {
        "id": "0Vho6qnjlTX7"
      },
      "source": [
        "Keras is a framework. So, to implement a neural network model in Keras, we first create an instance of Sequential(). <br>\n",
        "The Sequential model is a linear stack of layers. We then keep adding Dense layers that are fully connected layers as we desire.<br><br>\n",
        "We have included Dropout using <i> nn_model.add(Dropout(0.3)) </i> <br><br>\n",
        "We can also include regularization using the command <br> <i> nn_model.add(Dense(21, activation='relu', kernel_regularizer=regularizers.l2(0.01))) </i> <br>instead of <br> <i> nn_model.add(Dense(21, activation='relu')) </i>"
      ]
    },
    {
      "cell_type": "code",
      "execution_count": null,
      "metadata": {
        "id": "h19KAYRelTX7"
      },
      "outputs": [],
      "source": [
        "# create model\n",
        "nn_model = Sequential()                                  # sequential kearas ka hai isme level by level layers add kar rahe hai\n",
        "nn_model.add(Dense(35, input_dim=784, activation='relu'))# 35 neurons hai and 784 input size hai and the activation function hai\n",
        "nn_model.add(Dropout(0.3))                               # yaha par dropout ho raha hai means kuch input ko zero kar diya jaayega\n",
        "nn_model.add(Dense(21, activation = 'relu'))\n",
        "nn_model.add(Dense(10, activation='softmax'))"
      ]
    },
    {
      "cell_type": "markdown",
      "metadata": {
        "id": "JOYAvaMBlTX7"
      },
      "source": [
        "Before we run the model on the training datasets, we compile the model in which we define various things like the loss function, the optimizer and the evaluation metric."
      ]
    },
    {
      "cell_type": "code",
      "execution_count": null,
      "metadata": {
        "id": "oYs1J6MBlTX7"
      },
      "outputs": [],
      "source": [
        "nn_model.compile(loss='categorical_crossentropy', optimizer='adam', metrics=['accuracy']) #categorical_crossentropy loss function hai iska use multiclass classification mai karte hai"
      ]
    },
    {
      "cell_type": "markdown",
      "metadata": {
        "id": "6C-0sHTElTX7"
      },
      "source": [
        "Now, to fit the model on the training input and training target dataset, we run the following command using a minibatch of size 10 and 10 epochs."
      ]
    },
    {
      "cell_type": "code",
      "execution_count": null,
      "metadata": {
        "id": "vg3tJ2o9lTX7",
        "outputId": "d618c616-0258-4773-a90b-8a518bfbe194"
      },
      "outputs": [
        {
          "name": "stdout",
          "output_type": "stream",
          "text": [
            "Epoch 1/10\n",
            "5000/5000 [==============================] - 5s 943us/step - loss: 0.7059 - accuracy: 0.7838\n",
            "Epoch 2/10\n",
            "5000/5000 [==============================] - 5s 912us/step - loss: 0.3087 - accuracy: 0.9063\n",
            "Epoch 3/10\n",
            "5000/5000 [==============================] - 4s 895us/step - loss: 0.2706 - accuracy: 0.9174\n",
            "Epoch 4/10\n",
            "5000/5000 [==============================] - 5s 901us/step - loss: 0.2451 - accuracy: 0.9239\n",
            "Epoch 5/10\n",
            "5000/5000 [==============================] - 5s 931us/step - loss: 0.2397 - accuracy: 0.9246\n",
            "Epoch 6/10\n",
            "5000/5000 [==============================] - 5s 906us/step - loss: 0.2241 - accuracy: 0.9293\n",
            "Epoch 7/10\n",
            "5000/5000 [==============================] - 5s 914us/step - loss: 0.2155 - accuracy: 0.9337\n",
            "Epoch 8/10\n",
            "5000/5000 [==============================] - 5s 915us/step - loss: 0.2121 - accuracy: 0.9333\n",
            "Epoch 9/10\n",
            "5000/5000 [==============================] - 5s 905us/step - loss: 0.2035 - accuracy: 0.9351\n",
            "Epoch 10/10\n",
            "5000/5000 [==============================] - 4s 900us/step - loss: 0.2000 - accuracy: 0.9353\n"
          ]
        },
        {
          "data": {
            "text/plain": [
              "<tensorflow.python.keras.callbacks.History at 0x7ff260228130>"
            ]
          },
          "execution_count": 14,
          "metadata": {},
          "output_type": "execute_result"
        }
      ],
      "source": [
        "nn_model.fit(train_set_x, train_set_y, epochs=10, batch_size=10)"
      ]
    },
    {
      "cell_type": "code",
      "execution_count": null,
      "metadata": {
        "id": "effwdssplTX7",
        "outputId": "53500483-b889-4cca-bc0d-7d2d8918fbcd"
      },
      "outputs": [
        {
          "name": "stdout",
          "output_type": "stream",
          "text": [
            "1563/1563 [==============================] - 1s 832us/step - loss: 0.0943 - accuracy: 0.9709\n",
            "\n",
            "accuracy: 97.09%\n"
          ]
        }
      ],
      "source": [
        "scores_train = nn_model.evaluate(train_set_x, train_set_y)\n",
        "print(\"\\n%s: %.2f%%\" % (nn_model.metrics_names[1], scores_train[1]*100))"
      ]
    },
    {
      "cell_type": "markdown",
      "metadata": {
        "id": "iJh8BNIIlTX7"
      },
      "source": [
        "We can see that the model has ~ 97% accuracy on the training dataset."
      ]
    },
    {
      "cell_type": "markdown",
      "metadata": {
        "id": "iTWSr34ulTX8"
      },
      "source": [
        "Now, let's make predictions on the test dataset."
      ]
    },
    {
      "cell_type": "code",
      "execution_count": null,
      "metadata": {
        "id": "0gM3bhOtlTX8",
        "outputId": "7c29c6b2-6e9d-4847-f9f6-6e493fb4ecf1"
      },
      "outputs": [
        {
          "data": {
            "text/plain": [
              "array([3, 8, 6, ..., 5, 6, 8])"
            ]
          },
          "execution_count": 16,
          "metadata": {},
          "output_type": "execute_result"
        }
      ],
      "source": [
        "predictions = nn_model.predict(test_set_x)\n",
        "predictions = np.argmax(predictions, axis = 1)\n",
        "predictions"
      ]
    },
    {
      "cell_type": "code",
      "execution_count": null,
      "metadata": {
        "id": "YvyhFiPrlTX8",
        "outputId": "f84065a1-b4ef-4403-b2cc-f4a4dfdc50cf"
      },
      "outputs": [
        {
          "name": "stdout",
          "output_type": "stream",
          "text": [
            "313/313 [==============================] - 0s 783us/step - loss: 0.1262 - accuracy: 0.9654\n",
            "\n",
            "accuracy: 96.54%\n"
          ]
        }
      ],
      "source": [
        "scores_test = nn_model.evaluate(test_set_x, test_set_y)\n",
        "print(\"\\n%s: %.2f%%\" % (nn_model.metrics_names[1], scores_test[1]*100))"
      ]
    },
    {
      "cell_type": "markdown",
      "metadata": {
        "id": "XxejJyyblTX8"
      },
      "source": [
        "We can see that the model has ~96% accuracy on the training dataset."
      ]
    },
    {
      "cell_type": "markdown",
      "metadata": {
        "id": "gyluf2O3lTX8"
      },
      "source": [
        "Try and look at the different test cases and check which all have gone wrong. Feel free to change the index numbers."
      ]
    },
    {
      "cell_type": "code",
      "execution_count": null,
      "metadata": {
        "id": "cTQnQU2zlTX8",
        "outputId": "d0e304f7-b28b-446b-9092-4e2b1880ed7f"
      },
      "outputs": [
        {
          "data": {
            "text/plain": [
              "<matplotlib.image.AxesImage at 0x7ff26e14bcd0>"
            ]
          },
          "execution_count": 18,
          "metadata": {},
          "output_type": "execute_result"
        },
        {
          "data": {
            "image/png": "[encoded data removed]",
            "text/plain": [
              "<Figure size 432x288 with 1 Axes>"
            ]
          },
          "metadata": {
            "needs_background": "light"
          },
          "output_type": "display_data"
        }
      ],
      "source": [
        "index  = 999\n",
        "k = test_set_x[index, :]\n",
        "k = k.reshape((28, 28))\n",
        "plt.title('Label is {label}'.format(label=(predictions[index], np.argmax(test_set_y, axis = 1)[index])))\n",
        "plt.imshow(k, cmap='gray')"
      ]
    }
  ],
  "metadata": {
    "kernelspec": {
      "display_name": "Python 3",
      "language": "python",
      "name": "python3"
    },
    "language_info": {
      "codemirror_mode": {
        "name": "ipython",
        "version": 3
      },
      "file_extension": ".py",
      "mimetype": "text/x-python",
      "name": "python",
      "nbconvert_exporter": "python",
      "pygments_lexer": "ipython3",
      "version": "3.8.5"
    },
    "colab": {
      "provenance": [],
      "include_colab_link": true
    }
  },
  "nbformat": 4,
  "nbformat_minor": 0
}