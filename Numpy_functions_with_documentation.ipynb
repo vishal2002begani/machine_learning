{
  "nbformat": 4,
  "nbformat_minor": 0,
  "metadata": {
    "colab": {
      "provenance": [],
      "gpuType": "T4",
      "include_colab_link": true
    },
    "kernelspec": {
      "name": "python3",
      "display_name": "Python 3"
    },
    "language_info": {
      "name": "python"
    },
    "accelerator": "GPU"
  },
  "cells": [
    {
      "cell_type": "markdown",
      "metadata": {
        "id": "view-in-github",
        "colab_type": "text"
      },
      "source": [
        "<a href=\"https://colab.research.google.com/github/vishal2002begani/machine_learning/blob/main/Numpy_functions_with_documentation.ipynb\" target=\"_parent\"><img src=\"https://colab.research.google.com/assets/colab-badge.svg\" alt=\"Open In Colab\"/></a>"
      ]
    },
    {
      "cell_type": "markdown",
      "source": [
        "### np.sort\n",
        "\n",
        "Return a sorted copy of an array.\n",
        "\n",
        "https://numpy.org/doc/stable/reference/generated/numpy.sort.html"
      ],
      "metadata": {
        "id": "39-UcmoPggtI"
      }
    },
    {
      "cell_type": "code",
      "source": [
        "# code\n",
        "import numpy as np\n",
        "a = np.random.randint(1,100,15)\n",
        "a"
      ],
      "metadata": {
        "colab": {
          "base_uri": "https://localhost:8080/"
        },
        "id": "vJUzuaz7gqTr",
        "outputId": "55bf1f0e-aa9f-47ee-ea5e-6a7a30d006e3"
      },
      "execution_count": 65,
      "outputs": [
        {
          "output_type": "execute_result",
          "data": {
            "text/plain": [
              "array([18, 69,  1, 84, 66, 91, 11, 29, 39, 64, 44, 57, 79, 82, 80])"
            ]
          },
          "metadata": {},
          "execution_count": 65
        }
      ]
    },
    {
      "cell_type": "code",
      "source": [
        "b = np.random.randint(1,100,24).reshape(6,4)\n",
        "b"
      ],
      "metadata": {
        "colab": {
          "base_uri": "https://localhost:8080/"
        },
        "id": "Dfer5zY9-HaK",
        "outputId": "135065bd-a611-4585-e68f-316dc204d32a"
      },
      "execution_count": 66,
      "outputs": [
        {
          "output_type": "execute_result",
          "data": {
            "text/plain": [
              "array([[37, 39, 54, 66],\n",
              "       [46, 37, 55,  8],\n",
              "       [ 7, 88, 98, 28],\n",
              "       [ 2, 68, 64, 66],\n",
              "       [99, 74, 16, 69],\n",
              "       [83, 98, 43, 27]])"
            ]
          },
          "metadata": {},
          "execution_count": 66
        }
      ]
    },
    {
      "cell_type": "code",
      "source": [
        "np.sort(a)"
      ],
      "metadata": {
        "colab": {
          "base_uri": "https://localhost:8080/"
        },
        "id": "9FOeiBtN2Oss",
        "outputId": "e116537a-5da3-4992-c205-3430eebab556"
      },
      "execution_count": 67,
      "outputs": [
        {
          "output_type": "execute_result",
          "data": {
            "text/plain": [
              "array([ 1, 11, 18, 29, 39, 44, 57, 64, 66, 69, 79, 80, 82, 84, 91])"
            ]
          },
          "metadata": {},
          "execution_count": 67
        }
      ]
    },
    {
      "cell_type": "code",
      "source": [
        "np.sort(a)[::-1] #-1 means reverse indexing"
      ],
      "metadata": {
        "colab": {
          "base_uri": "https://localhost:8080/"
        },
        "id": "dyjeU-C6KznM",
        "outputId": "69495f85-37e2-44be-98c8-ce443fc78953"
      },
      "execution_count": 68,
      "outputs": [
        {
          "output_type": "execute_result",
          "data": {
            "text/plain": [
              "array([91, 84, 82, 80, 79, 69, 66, 64, 57, 44, 39, 29, 18, 11,  1])"
            ]
          },
          "metadata": {},
          "execution_count": 68
        }
      ]
    },
    {
      "cell_type": "code",
      "source": [
        "np.sort(b,axis=0)[::-1]"
      ],
      "metadata": {
        "colab": {
          "base_uri": "https://localhost:8080/"
        },
        "id": "9fAdd5BWLHsq",
        "outputId": "f644190d-b6fe-404c-cf78-b42ce42cc8e3"
      },
      "execution_count": 69,
      "outputs": [
        {
          "output_type": "execute_result",
          "data": {
            "text/plain": [
              "array([[99, 98, 98, 69],\n",
              "       [83, 88, 64, 66],\n",
              "       [46, 74, 55, 66],\n",
              "       [37, 68, 54, 28],\n",
              "       [ 7, 39, 43, 27],\n",
              "       [ 2, 37, 16,  8]])"
            ]
          },
          "metadata": {},
          "execution_count": 69
        }
      ]
    },
    {
      "cell_type": "markdown",
      "source": [
        "### np.append\n",
        "\n",
        "The numpy.append() appends values along the mentioned axis at the end of the array\n",
        "\n",
        "https://numpy.org/doc/stable/reference/generated/numpy.append.html"
      ],
      "metadata": {
        "id": "W8tttorjgrVf"
      }
    },
    {
      "cell_type": "code",
      "source": [
        "# code\n",
        "np.append(a,200)"
      ],
      "metadata": {
        "id": "Y3fHkR1gfd1X",
        "colab": {
          "base_uri": "https://localhost:8080/"
        },
        "outputId": "bb077566-bbe6-4c2e-8b6b-1a2e1f551cf9"
      },
      "execution_count": 70,
      "outputs": [
        {
          "output_type": "execute_result",
          "data": {
            "text/plain": [
              "array([ 18,  69,   1,  84,  66,  91,  11,  29,  39,  64,  44,  57,  79,\n",
              "        82,  80, 200])"
            ]
          },
          "metadata": {},
          "execution_count": 70
        }
      ]
    },
    {
      "cell_type": "code",
      "source": [
        "b"
      ],
      "metadata": {
        "colab": {
          "base_uri": "https://localhost:8080/"
        },
        "id": "vmPc3zS3L2LL",
        "outputId": "14b596bf-e9a6-4329-c8eb-e9a563ca880b"
      },
      "execution_count": 71,
      "outputs": [
        {
          "output_type": "execute_result",
          "data": {
            "text/plain": [
              "array([[37, 39, 54, 66],\n",
              "       [46, 37, 55,  8],\n",
              "       [ 7, 88, 98, 28],\n",
              "       [ 2, 68, 64, 66],\n",
              "       [99, 74, 16, 69],\n",
              "       [83, 98, 43, 27]])"
            ]
          },
          "metadata": {},
          "execution_count": 71
        }
      ]
    },
    {
      "cell_type": "code",
      "source": [
        "np.append(b,np.random.randint(1,10,b.shape[0]).reshape(b.shape[0],1),axis=1) # added a new column"
      ],
      "metadata": {
        "colab": {
          "base_uri": "https://localhost:8080/"
        },
        "id": "LsIvCKQ5L-DB",
        "outputId": "03eb37a5-d99b-44cc-8743-3331bdad4f8f"
      },
      "execution_count": 72,
      "outputs": [
        {
          "output_type": "execute_result",
          "data": {
            "text/plain": [
              "array([[37, 39, 54, 66,  9],\n",
              "       [46, 37, 55,  8,  1],\n",
              "       [ 7, 88, 98, 28,  8],\n",
              "       [ 2, 68, 64, 66,  7],\n",
              "       [99, 74, 16, 69,  4],\n",
              "       [83, 98, 43, 27,  6]])"
            ]
          },
          "metadata": {},
          "execution_count": 72
        }
      ]
    },
    {
      "cell_type": "code",
      "source": [
        "np.append(b,np.random.randint(1,10,b.shape[1]).reshape(1,b.shape[1]),axis=0) # added a new row"
      ],
      "metadata": {
        "colab": {
          "base_uri": "https://localhost:8080/"
        },
        "id": "_yGLiMiw4E7V",
        "outputId": "b71af647-d7e2-481c-cded-51560f638916"
      },
      "execution_count": 73,
      "outputs": [
        {
          "output_type": "execute_result",
          "data": {
            "text/plain": [
              "array([[37, 39, 54, 66],\n",
              "       [46, 37, 55,  8],\n",
              "       [ 7, 88, 98, 28],\n",
              "       [ 2, 68, 64, 66],\n",
              "       [99, 74, 16, 69],\n",
              "       [83, 98, 43, 27],\n",
              "       [ 8,  9,  9,  1]])"
            ]
          },
          "metadata": {},
          "execution_count": 73
        }
      ]
    },
    {
      "cell_type": "markdown",
      "source": [
        "### np.concatenate\n",
        "\n",
        "numpy.concatenate() function concatenate a sequence of arrays along an existing axis.\n",
        "\n",
        "https://numpy.org/doc/stable/reference/generated/numpy.concatenate.html"
      ],
      "metadata": {
        "id": "meIMn8T9g5-m"
      }
    },
    {
      "cell_type": "code",
      "source": [
        "# code\n",
        "c = np.arange(6).reshape(2,3)\n",
        "d = np.arange(6,12).reshape(2,3)\n",
        "\n",
        "print(c)\n",
        "print(d)"
      ],
      "metadata": {
        "colab": {
          "base_uri": "https://localhost:8080/"
        },
        "id": "Nrj1_QXfWZlV",
        "outputId": "5f0277cd-7eef-44d7-900e-cb678b953461"
      },
      "execution_count": 74,
      "outputs": [
        {
          "output_type": "stream",
          "name": "stdout",
          "text": [
            "[[0 1 2]\n",
            " [3 4 5]]\n",
            "[[ 6  7  8]\n",
            " [ 9 10 11]]\n"
          ]
        }
      ]
    },
    {
      "cell_type": "code",
      "source": [
        "np.concatenate((c,d),axis=0) # just like hstack and vstack"
      ],
      "metadata": {
        "id": "fDHBrV7VA4yz",
        "colab": {
          "base_uri": "https://localhost:8080/"
        },
        "outputId": "0e416fbf-2304-4b1a-c907-2c64199bb4ae"
      },
      "execution_count": 75,
      "outputs": [
        {
          "output_type": "execute_result",
          "data": {
            "text/plain": [
              "array([[ 0,  1,  2],\n",
              "       [ 3,  4,  5],\n",
              "       [ 6,  7,  8],\n",
              "       [ 9, 10, 11]])"
            ]
          },
          "metadata": {},
          "execution_count": 75
        }
      ]
    },
    {
      "cell_type": "code",
      "source": [
        "np.concatenate((c,d,c),axis=1)"
      ],
      "metadata": {
        "colab": {
          "base_uri": "https://localhost:8080/"
        },
        "id": "GN9DnJ65Mr_b",
        "outputId": "26bb1d6c-de27-450b-d190-d2baa89e26b2"
      },
      "execution_count": 76,
      "outputs": [
        {
          "output_type": "execute_result",
          "data": {
            "text/plain": [
              "array([[ 0,  1,  2,  6,  7,  8,  0,  1,  2],\n",
              "       [ 3,  4,  5,  9, 10, 11,  3,  4,  5]])"
            ]
          },
          "metadata": {},
          "execution_count": 76
        }
      ]
    },
    {
      "cell_type": "markdown",
      "source": [
        "### np.unique\n",
        "\n",
        "With the help of np.unique() method, we can get the unique values from an array given as parameter in np.unique() method.\n",
        "\n",
        "https://numpy.org/doc/stable/reference/generated/numpy.unique.html/"
      ],
      "metadata": {
        "id": "oHGFqHcohFtB"
      }
    },
    {
      "cell_type": "code",
      "source": [
        "# code\n",
        "e = np.array([1,1,2,2,3,3,4,4,5,5,6,6])"
      ],
      "metadata": {
        "id": "NvG0KHpNWdN_"
      },
      "execution_count": 77,
      "outputs": []
    },
    {
      "cell_type": "code",
      "source": [
        "np.unique(e)"
      ],
      "metadata": {
        "id": "XWr932XeCFz1",
        "colab": {
          "base_uri": "https://localhost:8080/"
        },
        "outputId": "66d5eb60-1914-467e-f738-83cd79c5c40b"
      },
      "execution_count": 78,
      "outputs": [
        {
          "output_type": "execute_result",
          "data": {
            "text/plain": [
              "array([1, 2, 3, 4, 5, 6])"
            ]
          },
          "metadata": {},
          "execution_count": 78
        }
      ]
    },
    {
      "cell_type": "markdown",
      "source": [
        "### np.expand_dims\n",
        "\n",
        "With the help of Numpy.expand_dims() method, we can get the expanded dimensions of an array\n",
        "\n",
        "https://numpy.org/doc/stable/reference/generated/numpy.expand_dims.html"
      ],
      "metadata": {
        "id": "Wki2yOXaEZV3"
      }
    },
    {
      "cell_type": "code",
      "source": [
        "# code\n",
        "a.shape"
      ],
      "metadata": {
        "id": "Pyvf-oZ0XTvr",
        "colab": {
          "base_uri": "https://localhost:8080/"
        },
        "outputId": "0f96da69-64d2-41e7-efa3-1cd71d371d74"
      },
      "execution_count": 79,
      "outputs": [
        {
          "output_type": "execute_result",
          "data": {
            "text/plain": [
              "(15,)"
            ]
          },
          "metadata": {},
          "execution_count": 79
        }
      ]
    },
    {
      "cell_type": "code",
      "source": [
        "np.expand_dims(a,axis=0).shape"
      ],
      "metadata": {
        "colab": {
          "base_uri": "https://localhost:8080/"
        },
        "id": "B-Pk9HNzNdrb",
        "outputId": "218e6167-b406-4e9d-f59b-f70b9c1821a2"
      },
      "execution_count": 80,
      "outputs": [
        {
          "output_type": "execute_result",
          "data": {
            "text/plain": [
              "(1, 15)"
            ]
          },
          "metadata": {},
          "execution_count": 80
        }
      ]
    },
    {
      "cell_type": "code",
      "source": [
        "np.expand_dims(a,axis=1).shape"
      ],
      "metadata": {
        "colab": {
          "base_uri": "https://localhost:8080/"
        },
        "id": "Z7ivHwB44_og",
        "outputId": "1cd63636-f357-4b7a-8bd0-4e8143ea28ed"
      },
      "execution_count": 81,
      "outputs": [
        {
          "output_type": "execute_result",
          "data": {
            "text/plain": [
              "(15, 1)"
            ]
          },
          "metadata": {},
          "execution_count": 81
        }
      ]
    },
    {
      "cell_type": "code",
      "source": [
        "np.expand_dims(a,axis=1)"
      ],
      "metadata": {
        "colab": {
          "base_uri": "https://localhost:8080/"
        },
        "id": "5d0Ahp8QNsKO",
        "outputId": "f180ea17-12d8-413e-d787-733fc32b58c9"
      },
      "execution_count": 82,
      "outputs": [
        {
          "output_type": "execute_result",
          "data": {
            "text/plain": [
              "array([[18],\n",
              "       [69],\n",
              "       [ 1],\n",
              "       [84],\n",
              "       [66],\n",
              "       [91],\n",
              "       [11],\n",
              "       [29],\n",
              "       [39],\n",
              "       [64],\n",
              "       [44],\n",
              "       [57],\n",
              "       [79],\n",
              "       [82],\n",
              "       [80]])"
            ]
          },
          "metadata": {},
          "execution_count": 82
        }
      ]
    },
    {
      "cell_type": "markdown",
      "source": [
        "### np.where\n",
        "\n",
        "The numpy.where() function returns the indices of elements in an input array where the given condition is satisfied.\n",
        "\n",
        "https://numpy.org/doc/stable/reference/generated/numpy.where.html"
      ],
      "metadata": {
        "id": "_HmpYNTFERjS"
      }
    },
    {
      "cell_type": "code",
      "source": [
        "a"
      ],
      "metadata": {
        "id": "H8k_ZDXjEo5W",
        "colab": {
          "base_uri": "https://localhost:8080/"
        },
        "outputId": "fb44970f-9eeb-4e87-aed5-1c2469db5485"
      },
      "execution_count": 83,
      "outputs": [
        {
          "output_type": "execute_result",
          "data": {
            "text/plain": [
              "array([18, 69,  1, 84, 66, 91, 11, 29, 39, 64, 44, 57, 79, 82, 80])"
            ]
          },
          "metadata": {},
          "execution_count": 83
        }
      ]
    },
    {
      "cell_type": "code",
      "source": [
        "# find all indices with value greater than 50\n",
        "np.where(a>50)"
      ],
      "metadata": {
        "colab": {
          "base_uri": "https://localhost:8080/"
        },
        "id": "n9mkvdFdHGLY",
        "outputId": "e4388ba5-07ed-4fd4-fa09-dffaa1d8b269"
      },
      "execution_count": 84,
      "outputs": [
        {
          "output_type": "execute_result",
          "data": {
            "text/plain": [
              "(array([ 1,  3,  4,  5,  9, 11, 12, 13, 14]),)"
            ]
          },
          "metadata": {},
          "execution_count": 84
        }
      ]
    },
    {
      "cell_type": "code",
      "source": [
        "# replace all values > 50 with 0\n",
        "# np.where(condition,true ,false)\n",
        "np.where(a>50,0,a)"
      ],
      "metadata": {
        "id": "zJAUufBOHcu1",
        "colab": {
          "base_uri": "https://localhost:8080/"
        },
        "outputId": "fe2e2db6-f667-46fb-bed8-196a1ff6583b"
      },
      "execution_count": 85,
      "outputs": [
        {
          "output_type": "execute_result",
          "data": {
            "text/plain": [
              "array([18,  0,  1,  0,  0,  0, 11, 29, 39,  0, 44,  0,  0,  0,  0])"
            ]
          },
          "metadata": {},
          "execution_count": 85
        }
      ]
    },
    {
      "cell_type": "code",
      "source": [
        "np.where(a%2 == 0,0,a)"
      ],
      "metadata": {
        "colab": {
          "base_uri": "https://localhost:8080/"
        },
        "id": "Ygx7fC0BPP9e",
        "outputId": "5768d50c-5f23-4c40-8cf2-cc1268fe1ff1"
      },
      "execution_count": 86,
      "outputs": [
        {
          "output_type": "execute_result",
          "data": {
            "text/plain": [
              "array([ 0, 69,  1,  0,  0, 91, 11, 29, 39,  0,  0, 57, 79,  0,  0])"
            ]
          },
          "metadata": {},
          "execution_count": 86
        }
      ]
    },
    {
      "cell_type": "markdown",
      "source": [
        "### np.argmax\n",
        "\n",
        "The numpy.argmax() function returns indices of the max element of the array in a particular axis.\n",
        "\n",
        "https://numpy.org/doc/stable/reference/generated/numpy.argmax.html"
      ],
      "metadata": {
        "id": "jsGIGNtCIS5-"
      }
    },
    {
      "cell_type": "code",
      "source": [
        "# code\n",
        "a"
      ],
      "metadata": {
        "colab": {
          "base_uri": "https://localhost:8080/"
        },
        "id": "8YlXmMuaIRpj",
        "outputId": "b1e1aac6-771a-4984-eccd-363127ec3038"
      },
      "execution_count": 87,
      "outputs": [
        {
          "output_type": "execute_result",
          "data": {
            "text/plain": [
              "array([18, 69,  1, 84, 66, 91, 11, 29, 39, 64, 44, 57, 79, 82, 80])"
            ]
          },
          "metadata": {},
          "execution_count": 87
        }
      ]
    },
    {
      "cell_type": "code",
      "source": [
        "np.argmax(a)"
      ],
      "metadata": {
        "colab": {
          "base_uri": "https://localhost:8080/"
        },
        "id": "gdrU6cQ9Pn_A",
        "outputId": "bd25029c-5d19-4e54-caab-8f49c5137ecc"
      },
      "execution_count": 88,
      "outputs": [
        {
          "output_type": "execute_result",
          "data": {
            "text/plain": [
              "5"
            ]
          },
          "metadata": {},
          "execution_count": 88
        }
      ]
    },
    {
      "cell_type": "code",
      "source": [
        "b"
      ],
      "metadata": {
        "colab": {
          "base_uri": "https://localhost:8080/"
        },
        "id": "CohggNGrP5am",
        "outputId": "92999e43-14eb-4ebe-e920-37785583a670"
      },
      "execution_count": 89,
      "outputs": [
        {
          "output_type": "execute_result",
          "data": {
            "text/plain": [
              "array([[37, 39, 54, 66],\n",
              "       [46, 37, 55,  8],\n",
              "       [ 7, 88, 98, 28],\n",
              "       [ 2, 68, 64, 66],\n",
              "       [99, 74, 16, 69],\n",
              "       [83, 98, 43, 27]])"
            ]
          },
          "metadata": {},
          "execution_count": 89
        }
      ]
    },
    {
      "cell_type": "code",
      "source": [
        "np.argmax(b,axis=0)"
      ],
      "metadata": {
        "colab": {
          "base_uri": "https://localhost:8080/"
        },
        "id": "435CD24aIpNA",
        "outputId": "6a7e4e31-926f-4e1e-8947-6485a67bcb44"
      },
      "execution_count": 90,
      "outputs": [
        {
          "output_type": "execute_result",
          "data": {
            "text/plain": [
              "array([4, 5, 2, 4])"
            ]
          },
          "metadata": {},
          "execution_count": 90
        }
      ]
    },
    {
      "cell_type": "code",
      "source": [
        "np.argmax(b,axis=1)"
      ],
      "metadata": {
        "colab": {
          "base_uri": "https://localhost:8080/"
        },
        "id": "PBuZH3mbQE1U",
        "outputId": "c08aeb84-88b1-40ae-8b0b-d286b8463f58"
      },
      "execution_count": 91,
      "outputs": [
        {
          "output_type": "execute_result",
          "data": {
            "text/plain": [
              "array([3, 2, 2, 1, 0, 1])"
            ]
          },
          "metadata": {},
          "execution_count": 91
        }
      ]
    },
    {
      "cell_type": "code",
      "source": [
        "# np.argmin\n",
        "np.argmin(a)"
      ],
      "metadata": {
        "id": "T9TrLGNBWjV1",
        "colab": {
          "base_uri": "https://localhost:8080/"
        },
        "outputId": "c264b6b9-b04d-41e9-b8ab-ea43db079a0f"
      },
      "execution_count": 92,
      "outputs": [
        {
          "output_type": "execute_result",
          "data": {
            "text/plain": [
              "2"
            ]
          },
          "metadata": {},
          "execution_count": 92
        }
      ]
    },
    {
      "cell_type": "markdown",
      "source": [
        "### np.cumsum\n",
        "\n",
        "numpy.cumsum() function is used when we want to compute the cumulative sum of array elements over a given axis.\n",
        "\n",
        "https://numpy.org/doc/stable/reference/generated/numpy.cumsum.html"
      ],
      "metadata": {
        "id": "1OdKi27pa091"
      }
    },
    {
      "cell_type": "code",
      "source": [
        "a"
      ],
      "metadata": {
        "id": "VZmQUWH9bDk_",
        "colab": {
          "base_uri": "https://localhost:8080/"
        },
        "outputId": "a53dc82d-25f9-40ab-f737-1ba93503e3ec"
      },
      "execution_count": 93,
      "outputs": [
        {
          "output_type": "execute_result",
          "data": {
            "text/plain": [
              "array([18, 69,  1, 84, 66, 91, 11, 29, 39, 64, 44, 57, 79, 82, 80])"
            ]
          },
          "metadata": {},
          "execution_count": 93
        }
      ]
    },
    {
      "cell_type": "code",
      "source": [
        "np.cumsum(a)"
      ],
      "metadata": {
        "colab": {
          "base_uri": "https://localhost:8080/"
        },
        "id": "O0npD0R_RF-A",
        "outputId": "f0506453-fb54-471a-fb8e-c0404249cc5d"
      },
      "execution_count": 94,
      "outputs": [
        {
          "output_type": "execute_result",
          "data": {
            "text/plain": [
              "array([ 18,  87,  88, 172, 238, 329, 340, 369, 408, 472, 516, 573, 652,\n",
              "       734, 814])"
            ]
          },
          "metadata": {},
          "execution_count": 94
        }
      ]
    },
    {
      "cell_type": "code",
      "source": [
        "b"
      ],
      "metadata": {
        "colab": {
          "base_uri": "https://localhost:8080/"
        },
        "id": "Ypr5nUGxRJuO",
        "outputId": "587f3b5e-38e1-43a0-852e-35139b29e038"
      },
      "execution_count": 95,
      "outputs": [
        {
          "output_type": "execute_result",
          "data": {
            "text/plain": [
              "array([[37, 39, 54, 66],\n",
              "       [46, 37, 55,  8],\n",
              "       [ 7, 88, 98, 28],\n",
              "       [ 2, 68, 64, 66],\n",
              "       [99, 74, 16, 69],\n",
              "       [83, 98, 43, 27]])"
            ]
          },
          "metadata": {},
          "execution_count": 95
        }
      ]
    },
    {
      "cell_type": "code",
      "source": [
        "np.cumsum(b,axis=1)"
      ],
      "metadata": {
        "colab": {
          "base_uri": "https://localhost:8080/"
        },
        "id": "WXRZyWT9RTMw",
        "outputId": "5b226493-c63f-4a9d-910c-6f34d2184bef"
      },
      "execution_count": 96,
      "outputs": [
        {
          "output_type": "execute_result",
          "data": {
            "text/plain": [
              "array([[ 37,  76, 130, 196],\n",
              "       [ 46,  83, 138, 146],\n",
              "       [  7,  95, 193, 221],\n",
              "       [  2,  70, 134, 200],\n",
              "       [ 99, 173, 189, 258],\n",
              "       [ 83, 181, 224, 251]])"
            ]
          },
          "metadata": {},
          "execution_count": 96
        }
      ]
    },
    {
      "cell_type": "code",
      "source": [
        "np.cumsum(b)"
      ],
      "metadata": {
        "colab": {
          "base_uri": "https://localhost:8080/"
        },
        "id": "5WGkAjfjRNOe",
        "outputId": "8533de19-b7a7-4d4c-fb4d-c8389f48423a"
      },
      "execution_count": 97,
      "outputs": [
        {
          "output_type": "execute_result",
          "data": {
            "text/plain": [
              "array([  37,   76,  130,  196,  242,  279,  334,  342,  349,  437,  535,\n",
              "        563,  565,  633,  697,  763,  862,  936,  952, 1021, 1104, 1202,\n",
              "       1245, 1272])"
            ]
          },
          "metadata": {},
          "execution_count": 97
        }
      ]
    },
    {
      "cell_type": "code",
      "source": [
        "# np.cumprod\n",
        "np.cumprod(a)"
      ],
      "metadata": {
        "id": "RtGuPGr9WlVV",
        "colab": {
          "base_uri": "https://localhost:8080/"
        },
        "outputId": "4bce3d53-ccfa-44c2-ad90-364ccd1762a9"
      },
      "execution_count": 98,
      "outputs": [
        {
          "output_type": "execute_result",
          "data": {
            "text/plain": [
              "array([                  18,                 1242,                 1242,\n",
              "                     104328,              6885648,            626593968,\n",
              "                 6892533648,         199883475792,        7795455555888,\n",
              "            498909155576832,    21952002845380608,  1251264162186694656,\n",
              "        6616148444201119744,  7568594286914822144, -3255011479229431808])"
            ]
          },
          "metadata": {},
          "execution_count": 98
        }
      ]
    },
    {
      "cell_type": "code",
      "source": [
        "a"
      ],
      "metadata": {
        "colab": {
          "base_uri": "https://localhost:8080/"
        },
        "id": "8kdxzQXiRMOS",
        "outputId": "03125137-64f0-4e08-f6ff-db4848f67ef8"
      },
      "execution_count": 99,
      "outputs": [
        {
          "output_type": "execute_result",
          "data": {
            "text/plain": [
              "array([18, 69,  1, 84, 66, 91, 11, 29, 39, 64, 44, 57, 79, 82, 80])"
            ]
          },
          "metadata": {},
          "execution_count": 99
        }
      ]
    },
    {
      "cell_type": "markdown",
      "source": [
        "### np.percentile\n",
        "\n",
        "numpy.percentile()function used to compute the nth percentile of the given data (array elements) along the specified axis.\n",
        "\n",
        "https://numpy.org/doc/stable/reference/generated/numpy.percentile.html"
      ],
      "metadata": {
        "id": "SIuRwLMjcnOl"
      }
    },
    {
      "cell_type": "code",
      "source": [
        "a"
      ],
      "metadata": {
        "colab": {
          "base_uri": "https://localhost:8080/"
        },
        "id": "_o8iH4Evcl8C",
        "outputId": "85408dc6-c55a-4779-b98f-2eb256b2e626"
      },
      "execution_count": 100,
      "outputs": [
        {
          "output_type": "execute_result",
          "data": {
            "text/plain": [
              "array([18, 69,  1, 84, 66, 91, 11, 29, 39, 64, 44, 57, 79, 82, 80])"
            ]
          },
          "metadata": {},
          "execution_count": 100
        }
      ]
    },
    {
      "cell_type": "code",
      "source": [
        "np.percentile(a,50)"
      ],
      "metadata": {
        "colab": {
          "base_uri": "https://localhost:8080/"
        },
        "id": "gBH8ZvtrSND9",
        "outputId": "d0884adf-186e-4b66-c4f5-ea7f28f9cdab"
      },
      "execution_count": 101,
      "outputs": [
        {
          "output_type": "execute_result",
          "data": {
            "text/plain": [
              "64.0"
            ]
          },
          "metadata": {},
          "execution_count": 101
        }
      ]
    },
    {
      "cell_type": "code",
      "source": [
        "np.median(a)"
      ],
      "metadata": {
        "colab": {
          "base_uri": "https://localhost:8080/"
        },
        "id": "KLIhMJSTScTy",
        "outputId": "44e011e7-0199-475b-fd28-27caf5340235"
      },
      "execution_count": 102,
      "outputs": [
        {
          "output_type": "execute_result",
          "data": {
            "text/plain": [
              "64.0"
            ]
          },
          "metadata": {},
          "execution_count": 102
        }
      ]
    },
    {
      "cell_type": "markdown",
      "source": [
        "### np.histogram\n",
        "\n",
        "Numpy has a built-in numpy.histogram() function which represents the frequency of data distribution in the graphical form.\n",
        "\n",
        "https://numpy.org/doc/stable/reference/generated/numpy.histogram.html"
      ],
      "metadata": {
        "id": "2C6nGaJHev5N"
      }
    },
    {
      "cell_type": "code",
      "source": [
        "# code\n",
        "a"
      ],
      "metadata": {
        "colab": {
          "base_uri": "https://localhost:8080/"
        },
        "id": "S2pFLU5ZWuTx",
        "outputId": "72c4fe89-9878-4191-c915-cce16a59d667"
      },
      "execution_count": 103,
      "outputs": [
        {
          "output_type": "execute_result",
          "data": {
            "text/plain": [
              "array([18, 69,  1, 84, 66, 91, 11, 29, 39, 64, 44, 57, 79, 82, 80])"
            ]
          },
          "metadata": {},
          "execution_count": 103
        }
      ]
    },
    {
      "cell_type": "code",
      "source": [
        "np.histogram(a,bins=[0,20,40,60,80,100]) # inside bins we will give our range of partition"
      ],
      "metadata": {
        "colab": {
          "base_uri": "https://localhost:8080/"
        },
        "id": "wZlQuOFpSbE3",
        "outputId": "c355593b-5707-40aa-ae0b-f9dbc29bdc5c"
      },
      "execution_count": 104,
      "outputs": [
        {
          "output_type": "execute_result",
          "data": {
            "text/plain": [
              "(array([3, 2, 2, 4, 4]), array([  0,  20,  40,  60,  80, 100]))"
            ]
          },
          "metadata": {},
          "execution_count": 104
        }
      ]
    },
    {
      "cell_type": "markdown",
      "source": [
        "### np.corrcoef\n",
        "\n",
        "Return Pearson product-moment correlation coefficients.\n",
        "\n",
        "https://numpy.org/doc/stable/reference/generated/numpy.corrcoef.html"
      ],
      "metadata": {
        "id": "JxgMS0Zef8oQ"
      }
    },
    {
      "cell_type": "code",
      "source": [
        "salary = np.array([20000,40000,25000,35000,60000])\n",
        "experience = np.array([1,3,2,4,2])\n",
        "\n",
        "np.corrcoef(salary,experience)"
      ],
      "metadata": {
        "id": "ZAMnvEm5WyUp",
        "colab": {
          "base_uri": "https://localhost:8080/"
        },
        "outputId": "4d7dec64-cf28-494e-ff9b-5ddf282f6212"
      },
      "execution_count": 105,
      "outputs": [
        {
          "output_type": "execute_result",
          "data": {
            "text/plain": [
              "array([[1.        , 0.25344572],\n",
              "       [0.25344572, 1.        ]])"
            ]
          },
          "metadata": {},
          "execution_count": 105
        }
      ]
    },
    {
      "cell_type": "markdown",
      "source": [
        "### np.isin\n",
        "\n",
        "With the help of numpy.isin() method, we can see that one array having values are checked in a different numpy array having different elements with different sizes.\n",
        "\n",
        "https://numpy.org/doc/stable/reference/generated/numpy.isin.html"
      ],
      "metadata": {
        "id": "Ot4h1PdGh-vI"
      }
    },
    {
      "cell_type": "code",
      "source": [
        "# code\n",
        "a\n"
      ],
      "metadata": {
        "colab": {
          "base_uri": "https://localhost:8080/"
        },
        "id": "oyyVo0qnW2Cz",
        "outputId": "4d426877-e8f1-4fae-eed9-bf705d7d0451"
      },
      "execution_count": 106,
      "outputs": [
        {
          "output_type": "execute_result",
          "data": {
            "text/plain": [
              "array([18, 69,  1, 84, 66, 91, 11, 29, 39, 64, 44, 57, 79, 82, 80])"
            ]
          },
          "metadata": {},
          "execution_count": 106
        }
      ]
    },
    {
      "cell_type": "code",
      "source": [
        "items = [10,20,30,40,50,60,70,80,90,100]\n",
        "\n",
        "a[np.isin(a,items)]"
      ],
      "metadata": {
        "colab": {
          "base_uri": "https://localhost:8080/"
        },
        "id": "lLA0c9z2VE3O",
        "outputId": "02e98a60-b5e7-494d-f25c-b5f25f915d35"
      },
      "execution_count": 107,
      "outputs": [
        {
          "output_type": "execute_result",
          "data": {
            "text/plain": [
              "array([80])"
            ]
          },
          "metadata": {},
          "execution_count": 107
        }
      ]
    },
    {
      "cell_type": "markdown",
      "source": [
        "### np.flip\n",
        "\n",
        "The numpy.flip() function reverses the order of array elements along the specified axis, preserving the shape of the array.\n",
        "\n",
        "https://numpy.org/doc/stable/reference/generated/numpy.flip.html"
      ],
      "metadata": {
        "id": "8VKXXRjmicT-"
      }
    },
    {
      "cell_type": "code",
      "source": [
        "# code\n",
        "print(a)\n",
        "np.flip(a)"
      ],
      "metadata": {
        "id": "lMreAl7yEvBa",
        "colab": {
          "base_uri": "https://localhost:8080/"
        },
        "outputId": "8018c462-b9ce-4ee3-cb9c-743f5a514629"
      },
      "execution_count": 108,
      "outputs": [
        {
          "output_type": "stream",
          "name": "stdout",
          "text": [
            "[18 69  1 84 66 91 11 29 39 64 44 57 79 82 80]\n"
          ]
        },
        {
          "output_type": "execute_result",
          "data": {
            "text/plain": [
              "array([80, 82, 79, 57, 44, 64, 39, 29, 11, 91, 66, 84,  1, 69, 18])"
            ]
          },
          "metadata": {},
          "execution_count": 108
        }
      ]
    },
    {
      "cell_type": "code",
      "source": [
        "print(b)\n",
        "np.flip(b) #both fliping column and row"
      ],
      "metadata": {
        "id": "DtitvGz4pMTG",
        "colab": {
          "base_uri": "https://localhost:8080/"
        },
        "outputId": "5a3856b3-cd7a-49c1-8fb0-aa618d274837"
      },
      "execution_count": 109,
      "outputs": [
        {
          "output_type": "stream",
          "name": "stdout",
          "text": [
            "[[37 39 54 66]\n",
            " [46 37 55  8]\n",
            " [ 7 88 98 28]\n",
            " [ 2 68 64 66]\n",
            " [99 74 16 69]\n",
            " [83 98 43 27]]\n"
          ]
        },
        {
          "output_type": "execute_result",
          "data": {
            "text/plain": [
              "array([[27, 43, 98, 83],\n",
              "       [69, 16, 74, 99],\n",
              "       [66, 64, 68,  2],\n",
              "       [28, 98, 88,  7],\n",
              "       [ 8, 55, 37, 46],\n",
              "       [66, 54, 39, 37]])"
            ]
          },
          "metadata": {},
          "execution_count": 109
        }
      ]
    },
    {
      "cell_type": "code",
      "source": [
        "np.flip(b,axis=1)"
      ],
      "metadata": {
        "colab": {
          "base_uri": "https://localhost:8080/"
        },
        "id": "UOU3WOBwVm59",
        "outputId": "18017090-72f0-4359-89d7-1285e549bd59"
      },
      "execution_count": 110,
      "outputs": [
        {
          "output_type": "execute_result",
          "data": {
            "text/plain": [
              "array([[66, 54, 39, 37],\n",
              "       [ 8, 55, 37, 46],\n",
              "       [28, 98, 88,  7],\n",
              "       [66, 64, 68,  2],\n",
              "       [69, 16, 74, 99],\n",
              "       [27, 43, 98, 83]])"
            ]
          },
          "metadata": {},
          "execution_count": 110
        }
      ]
    },
    {
      "cell_type": "markdown",
      "source": [
        "### np.put\n",
        "\n",
        "The numpy.put() function replaces specific elements of an array with given values of p_array. Array indexed works on flattened array.\n",
        "\n",
        "https://numpy.org/doc/stable/reference/generated/numpy.put.html"
      ],
      "metadata": {
        "id": "n7jTKF2QjIz4"
      }
    },
    {
      "cell_type": "code",
      "source": [
        "# code\n",
        "a"
      ],
      "metadata": {
        "id": "xZrJHzr0E0zN",
        "colab": {
          "base_uri": "https://localhost:8080/"
        },
        "outputId": "22f88ac4-0769-441f-e6ba-aaf85d3f79a4"
      },
      "execution_count": 111,
      "outputs": [
        {
          "output_type": "execute_result",
          "data": {
            "text/plain": [
              "array([18, 69,  1, 84, 66, 91, 11, 29, 39, 64, 44, 57, 79, 82, 80])"
            ]
          },
          "metadata": {},
          "execution_count": 111
        }
      ]
    },
    {
      "cell_type": "code",
      "source": [
        "np.put(a,[0,1],[110,530]) #permanent changes in the array\n",
        "# np.put(a,[index],[replace with])\n",
        "print(a)"
      ],
      "metadata": {
        "id": "dtl97d4SWHUG",
        "colab": {
          "base_uri": "https://localhost:8080/"
        },
        "outputId": "5028cbcb-60df-4c07-b6be-fd1657f38eca"
      },
      "execution_count": 112,
      "outputs": [
        {
          "output_type": "stream",
          "name": "stdout",
          "text": [
            "[110 530   1  84  66  91  11  29  39  64  44  57  79  82  80]\n"
          ]
        }
      ]
    },
    {
      "cell_type": "markdown",
      "source": [
        "### np.delete\n",
        "\n",
        "The numpy.delete() function returns a new array with the deletion of sub-arrays along with the mentioned axis.\n",
        "\n",
        "https://numpy.org/doc/stable/reference/generated/numpy.delete.html"
      ],
      "metadata": {
        "id": "lYkpJg3kpSWB"
      }
    },
    {
      "cell_type": "code",
      "source": [
        "# code\n",
        "a"
      ],
      "metadata": {
        "id": "VmGLdiy5pQXc",
        "colab": {
          "base_uri": "https://localhost:8080/"
        },
        "outputId": "c87cba61-df1e-4563-c18b-decf8d808b4f"
      },
      "execution_count": 113,
      "outputs": [
        {
          "output_type": "execute_result",
          "data": {
            "text/plain": [
              "array([110, 530,   1,  84,  66,  91,  11,  29,  39,  64,  44,  57,  79,\n",
              "        82,  80])"
            ]
          },
          "metadata": {},
          "execution_count": 113
        }
      ]
    },
    {
      "cell_type": "code",
      "source": [
        "np.delete(a,[0,2,4])"
      ],
      "metadata": {
        "colab": {
          "base_uri": "https://localhost:8080/"
        },
        "id": "A5Dp974mWeWd",
        "outputId": "6db7c07c-146d-4664-cefd-65f310d64fa6"
      },
      "execution_count": 114,
      "outputs": [
        {
          "output_type": "execute_result",
          "data": {
            "text/plain": [
              "array([530,  84,  91,  11,  29,  39,  64,  44,  57,  79,  82,  80])"
            ]
          },
          "metadata": {},
          "execution_count": 114
        }
      ]
    },
    {
      "cell_type": "markdown",
      "source": [
        "### Set functions\n",
        "\n",
        "- np.union1d\n",
        "- np.intersect1d\n",
        "- np.setdiff1d\n",
        "- np.setxor1d\n",
        "- np.in1d"
      ],
      "metadata": {
        "id": "Ei94MbFbrjvx"
      }
    },
    {
      "cell_type": "code",
      "source": [
        "m = np.array([1,2,3,4,5])\n",
        "n = np.array([3,4,5,6,7])\n",
        "\n",
        "np.union1d(m,n)"
      ],
      "metadata": {
        "id": "hHSwzU1irY0f",
        "colab": {
          "base_uri": "https://localhost:8080/"
        },
        "outputId": "830116fb-3905-4286-d0e0-a949935f9def"
      },
      "execution_count": 115,
      "outputs": [
        {
          "output_type": "execute_result",
          "data": {
            "text/plain": [
              "array([1, 2, 3, 4, 5, 6, 7])"
            ]
          },
          "metadata": {},
          "execution_count": 115
        }
      ]
    },
    {
      "cell_type": "code",
      "source": [
        "np.intersect1d(m,n)"
      ],
      "metadata": {
        "colab": {
          "base_uri": "https://localhost:8080/"
        },
        "id": "XSIuF3zWXZXP",
        "outputId": "fd5a2a36-acf6-4dc6-be07-dc513d3fec75"
      },
      "execution_count": 116,
      "outputs": [
        {
          "output_type": "execute_result",
          "data": {
            "text/plain": [
              "array([3, 4, 5])"
            ]
          },
          "metadata": {},
          "execution_count": 116
        }
      ]
    },
    {
      "cell_type": "code",
      "source": [
        "np.setdiff1d(n,m) # present in n but not in m"
      ],
      "metadata": {
        "colab": {
          "base_uri": "https://localhost:8080/"
        },
        "id": "HhGH8cskXgR5",
        "outputId": "8fd2045f-f901-4a6d-9388-e903377c9d55"
      },
      "execution_count": 117,
      "outputs": [
        {
          "output_type": "execute_result",
          "data": {
            "text/plain": [
              "array([6, 7])"
            ]
          },
          "metadata": {},
          "execution_count": 117
        }
      ]
    },
    {
      "cell_type": "code",
      "source": [
        "np.setxor1d(m,n) #present in n bot not m and then present in m but not in n"
      ],
      "metadata": {
        "colab": {
          "base_uri": "https://localhost:8080/"
        },
        "id": "KaZbcTk0XubR",
        "outputId": "8c677f6b-d3ff-4840-bed8-446b984d5257"
      },
      "execution_count": 118,
      "outputs": [
        {
          "output_type": "execute_result",
          "data": {
            "text/plain": [
              "array([1, 2, 6, 7])"
            ]
          },
          "metadata": {},
          "execution_count": 118
        }
      ]
    },
    {
      "cell_type": "code",
      "source": [
        "m[np.in1d(m,1)]"
      ],
      "metadata": {
        "colab": {
          "base_uri": "https://localhost:8080/"
        },
        "id": "SqV9rpQ_XzVg",
        "outputId": "d9170d89-66bb-421e-fddc-2a4092cd004c"
      },
      "execution_count": 119,
      "outputs": [
        {
          "output_type": "execute_result",
          "data": {
            "text/plain": [
              "array([1])"
            ]
          },
          "metadata": {},
          "execution_count": 119
        }
      ]
    },
    {
      "cell_type": "markdown",
      "source": [
        "### np.clip\n",
        "\n",
        "numpy.clip() function is used to Clip (limit) the values in an array.\n",
        "\n",
        "https://numpy.org/doc/stable/reference/generated/numpy.clip.html"
      ],
      "metadata": {
        "id": "uLxS7H2pr-rh"
      }
    },
    {
      "cell_type": "code",
      "source": [
        "# code\n",
        "a"
      ],
      "metadata": {
        "id": "Q3S9gjNzsL73",
        "colab": {
          "base_uri": "https://localhost:8080/"
        },
        "outputId": "afbd5426-aae2-4b23-f364-b5899e41f55c"
      },
      "execution_count": 120,
      "outputs": [
        {
          "output_type": "execute_result",
          "data": {
            "text/plain": [
              "array([110, 530,   1,  84,  66,  91,  11,  29,  39,  64,  44,  57,  79,\n",
              "        82,  80])"
            ]
          },
          "metadata": {},
          "execution_count": 120
        }
      ]
    },
    {
      "cell_type": "code",
      "source": [
        "np.clip(a,a_min=25,a_max=75) #jo min ko cross karega vo min ban jaayega and jo max ko cross karega vo max ban jaayega"
      ],
      "metadata": {
        "colab": {
          "base_uri": "https://localhost:8080/"
        },
        "id": "x08JKAVHYOxF",
        "outputId": "a5293055-d007-482a-aaa7-39b42959eb1c"
      },
      "execution_count": 121,
      "outputs": [
        {
          "output_type": "execute_result",
          "data": {
            "text/plain": [
              "array([75, 75, 25, 75, 66, 75, 25, 29, 39, 64, 44, 57, 75, 75, 75])"
            ]
          },
          "metadata": {},
          "execution_count": 121
        }
      ]
    },
    {
      "cell_type": "code",
      "source": [
        "# 17. np.swapaxes"
      ],
      "metadata": {
        "id": "INpvUpf9InGT"
      },
      "execution_count": 122,
      "outputs": []
    },
    {
      "cell_type": "code",
      "source": [
        "# 18. np.uniform"
      ],
      "metadata": {
        "id": "AEFIFE1vJXDA"
      },
      "execution_count": 123,
      "outputs": []
    },
    {
      "cell_type": "code",
      "source": [
        "# 19. np.count_nonzero"
      ],
      "metadata": {
        "id": "y7M0rggRKBIu"
      },
      "execution_count": 124,
      "outputs": []
    },
    {
      "cell_type": "code",
      "source": [
        "# 21. np.tile\n",
        "# https://www.kaggle.com/code/abhayparashar31/best-numpy-functions-for-data-science-50?scriptVersionId=98816580"
      ],
      "metadata": {
        "id": "Qy0-pdlOK9tC"
      },
      "execution_count": 125,
      "outputs": []
    },
    {
      "cell_type": "code",
      "source": [
        "# 22. np.repeat\n",
        "# https://towardsdatascience.com/10-numpy-functions-you-should-know-1dc4863764c5"
      ],
      "metadata": {
        "id": "5DAEz6cbIdga"
      },
      "execution_count": 126,
      "outputs": []
    },
    {
      "cell_type": "code",
      "source": [
        "\n",
        "# 25. np.allclose and equals"
      ],
      "metadata": {
        "id": "DdLxDfsMNfz8"
      },
      "execution_count": 127,
      "outputs": []
    }
  ]
}